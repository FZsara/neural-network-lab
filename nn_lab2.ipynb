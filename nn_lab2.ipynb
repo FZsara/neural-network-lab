{
  "nbformat": 4,
  "nbformat_minor": 0,
  "metadata": {
    "colab": {
      "provenance": [],
      "include_colab_link": true
    },
    "kernelspec": {
      "name": "python3",
      "display_name": "Python 3"
    },
    "language_info": {
      "name": "python"
    }
  },
  "cells": [
    {
      "cell_type": "markdown",
      "metadata": {
        "id": "view-in-github",
        "colab_type": "text"
      },
      "source": [
        "<a href=\"https://colab.research.google.com/github/FZsara/neural-network-lab/blob/main/nn_lab2.ipynb\" target=\"_parent\"><img src=\"https://colab.research.google.com/assets/colab-badge.svg\" alt=\"Open In Colab\"/></a>"
      ]
    },
    {
      "cell_type": "code",
      "execution_count": null,
      "metadata": {
        "colab": {
          "base_uri": "https://localhost:8080/"
        },
        "id": "Lqx7ZXy3e6At",
        "outputId": "fb1deb2f-30c1-4495-f48c-363506e736a2"
      },
      "outputs": [
        {
          "output_type": "stream",
          "name": "stdout",
          "text": [
            "Collecting simpful\n",
            "  Downloading simpful-2.12.0-py3-none-any.whl.metadata (4.8 kB)\n",
            "Requirement already satisfied: numpy>=1.12.0 in /usr/local/lib/python3.10/dist-packages (from simpful) (1.26.4)\n",
            "Requirement already satisfied: scipy>=1.0.0 in /usr/local/lib/python3.10/dist-packages (from simpful) (1.13.1)\n",
            "Downloading simpful-2.12.0-py3-none-any.whl (24 kB)\n",
            "Installing collected packages: simpful\n",
            "Successfully installed simpful-2.12.0\n"
          ]
        }
      ],
      "source": [
        "pip install simpful"
      ]
    },
    {
      "cell_type": "code",
      "source": [
        "from simpful import *\n",
        "\n",
        "# Create a fuzzy system object\n",
        "FS = FuzzySystem()\n",
        "\n",
        "# Define fuzzy sets and linguistic variables for Service Quality\n",
        "S_1 = FuzzySet(function=Triangular_MF(a=0, b=0, c=5), term=\"poor\")\n",
        "S_2 = FuzzySet(function=Triangular_MF(a=2, b=5, c=8), term=\"average\")\n",
        "S_3 = FuzzySet(function=Triangular_MF(a=5, b=10, c=10), term=\"excellent\")\n",
        "FS.add_linguistic_variable(\"Service\", LinguisticVariable([S_1, S_2, S_3], universe_of_discourse=[0, 10]))\n",
        "\n",
        "# Define fuzzy sets and linguistic variables for Food Quality\n",
        "F_1 = FuzzySet(function=Triangular_MF(a=0, b=0, c=5), term=\"bad\")\n",
        "F_2 = FuzzySet(function=Triangular_MF(a=2, b=5, c=8), term=\"good\")\n",
        "F_3 = FuzzySet(function=Triangular_MF(a=5, b=10, c=10), term=\"great\")\n",
        "FS.add_linguistic_variable(\"Food\", LinguisticVariable([F_1, F_2, F_3], universe_of_discourse=[0, 10]))\n",
        "\n",
        "# Define output fuzzy sets and linguistic variable for Tip Amount\n",
        "T_1 = FuzzySet(function=Triangular_MF(a=0, b=0, c=15), term=\"low\")\n",
        "T_2 = FuzzySet(function=Triangular_MF(a=10, b=15, c=20), term=\"medium\")\n",
        "T_3 = FuzzySet(function=Triangular_MF(a=15, b=20, c=30), term=\"high\")\n",
        "FS.add_linguistic_variable(\"Tip\", LinguisticVariable([T_1, T_2, T_3], universe_of_discourse=[0, 30]))\n",
        "\n",
        "# Define fuzzy rules\n",
        "R1 = \"IF (Service IS poor) OR (Food IS bad) THEN (Tip IS low)\"\n",
        "R2 = \"IF (Service IS average) AND (Food IS good) THEN (Tip IS medium)\"\n",
        "R3 = \"IF (Service IS excellent) OR (Food IS great) THEN (Tip IS high)\"\n",
        "FS.add_rules([R1, R2, R3])\n",
        "\n",
        "# Set antecedents values\n",
        "FS.set_variable(\"Service\", 7)  # Service quality: Average\n",
        "FS.set_variable(\"Food\", 8)     # Food quality: Good\n",
        "\n",
        "# Perform Mamdani inference and print output\n",
        "output = FS.Mamdani_inference([\"Tip\"])\n",
        "print(output)\n"
      ],
      "metadata": {
        "colab": {
          "base_uri": "https://localhost:8080/"
        },
        "id": "GSd-eVcKfAz-",
        "outputId": "322e089a-519e-4223-81a5-194e3f4021ee"
      },
      "execution_count": null,
      "outputs": [
        {
          "output_type": "stream",
          "name": "stdout",
          "text": [
            "  ____  __  _  _  ____  ____  _  _  __   \n",
            " / ___)(  )( \\/ )(  _ \\(  __)/ )( \\(  ) v2.12.0 \n",
            " \\___ \\ )( / \\/ \\ ) __/ ) _) ) \\/ (/ (_/\\ \n",
            " (____/(__)\\_)(_/(__)  (__)  \\____/\\____/\n",
            "\n",
            " https://github.com/aresio/simpful\n",
            "\n",
            "{'Tip': 21.857129101618195}\n"
          ]
        }
      ]
    },
    {
      "cell_type": "code",
      "source": [
        "from simpful import *\n",
        "\n",
        "# Create a fuzzy system object\n",
        "FS = FuzzySystem()\n",
        "\n",
        "# Define fuzzy sets and linguistic variables for Temperature\n",
        "T_1 = FuzzySet(function=Trapezoidal_MF(a=0, b=0, c=30, d=50), term=\"freezing\")\n",
        "T_2 = FuzzySet(function=Triangular_MF(a=30, b=50, c=70), term=\"cool\")\n",
        "T_3 = FuzzySet(function=Triangular_MF(a=50, b=70, c=90), term=\"warm\")\n",
        "T_4 = FuzzySet(function=Trapezoidal_MF(a=70, b=90, c=100, d=100), term=\"hot\")\n",
        "FS.add_linguistic_variable(\"Temp\", LinguisticVariable([T_1, T_2, T_3, T_4], universe_of_discourse=[0, 100]))\n",
        "\n",
        "# Define fuzzy sets and linguistic variables for Cover\n",
        "C_1 = FuzzySet(function=Trapezoidal_MF(a=0, b=0, c=20, d=40), term=\"sunny\")\n",
        "C_2 = FuzzySet(function=Triangular_MF(a=20, b=50, c=80), term=\"partly\")\n",
        "C_3 = FuzzySet(function=Trapezoidal_MF(a=60, b=80, c=100, d=100), term=\"overcast\")\n",
        "FS.add_linguistic_variable(\"Cover\", LinguisticVariable([C_1, C_2, C_3], universe_of_discourse=[0, 100]))\n",
        "\n",
        "# Define fuzzy sets and linguistic variables for Speed (Updated with Trapezoidal MF)\n",
        "S_1 = FuzzySet(function=Trapezoidal_MF(a=0, b=0, c=25, d=75), term=\"slow\")\n",
        "S_2 = FuzzySet(function=Trapezoidal_MF(a=25, b=75, c=100, d=100), term=\"fast\")\n",
        "FS.add_linguistic_variable(\"Speed\", LinguisticVariable([S_1, S_2], universe_of_discourse=[0, 100]))\n",
        "\n",
        "# Define fuzzy rules\n",
        "R1 = \"IF (Cover IS sunny) AND (Temp IS warm) THEN (Speed IS fast)\"\n",
        "R2 = \"IF (Cover IS partly) AND (Temp IS cool) THEN (Speed IS slow)\"\n",
        "FS.add_rules([R1, R2])\n",
        "\n",
        "# Set antecedents values\n",
        "FS.set_variable(\"Temp\", 65)  # Temperature in Fahrenheit\n",
        "FS.set_variable(\"Cover\", 25)  # 25% Cloud Cover\n",
        "\n",
        "# Perform Mamdani inference and print output\n",
        "output = FS.Mamdani_inference([\"Speed\"])\n",
        "print(f\"Driving Speed: {output['Speed']:.2f}\")\n"
      ],
      "metadata": {
        "colab": {
          "base_uri": "https://localhost:8080/"
        },
        "id": "enUSzNOBg81i",
        "outputId": "a0e070a7-2dac-422f-d7f8-34a78b2f0dec"
      },
      "execution_count": null,
      "outputs": [
        {
          "output_type": "stream",
          "name": "stdout",
          "text": [
            "  ____  __  _  _  ____  ____  _  _  __   \n",
            " / ___)(  )( \\/ )(  _ \\(  __)/ )( \\(  ) v2.12.0 \n",
            " \\___ \\ )( / \\/ \\ ) __/ ) _) ) \\/ (/ (_/\\ \n",
            " (____/(__)\\_)(_/(__)  (__)  \\____/\\____/\n",
            "\n",
            " https://github.com/aresio/simpful\n",
            "\n",
            "Driving Speed: 65.05\n"
          ]
        }
      ]
    }
  ]
}